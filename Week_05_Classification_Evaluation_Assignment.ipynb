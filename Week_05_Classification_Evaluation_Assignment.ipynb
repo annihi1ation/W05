{
  "cells": [
    {
      "cell_type": "markdown",
      "metadata": {
        "id": "l4Gu2N5O5ADF"
      },
      "source": [
        "# Week 05 Classification Evaluation Assignment"
      ]
    },
    {
      "cell_type": "markdown",
      "metadata": {
        "id": "_aMv4c3p5ADJ"
      },
      "source": [
        "- Course: Z604 Music Data Mining \n",
        "- Instructor: Kahyun Choi "
      ]
    },
    {
      "cell_type": "markdown",
      "metadata": {
        "id": "PpFKZqB67W7d"
      },
      "source": [
        "This week's assignment uses the same classifier for the Week 05 assignment. "
      ]
    },
    {
      "cell_type": "code",
      "execution_count": 1,
      "metadata": {
        "colab": {
          "base_uri": "https://localhost:8080/"
        },
        "id": "ov9QAm1W5HBT",
        "outputId": "971eb64f-6d94-4718-c921-b2f6985662e9"
      },
      "outputs": [
        {
          "output_type": "stream",
          "name": "stdout",
          "text": [
            "Cloning into 'W04'...\n",
            "remote: Enumerating objects: 245, done.\u001b[K\n",
            "remote: Counting objects: 100% (12/12), done.\u001b[K\n",
            "remote: Compressing objects: 100% (8/8), done.\u001b[K\n",
            "remote: Total 245 (delta 6), reused 10 (delta 4), pack-reused 233\u001b[K\n",
            "Receiving objects: 100% (245/245), 42.97 MiB | 28.19 MiB/s, done.\n",
            "Resolving deltas: 100% (7/7), done.\n",
            "/content/W04\n"
          ]
        }
      ],
      "source": [
        "# we will be reusing dataset and utilities from W04\n",
        "import os\n",
        "if os.path.exists('W04'): \n",
        "    !rm -fr 'W04/'\n",
        "!git clone https://github.com/music-data-mining/W04.git\n",
        "%cd W04"
      ]
    },
    {
      "cell_type": "markdown",
      "metadata": {
        "id": "hi9vcgU35ADL"
      },
      "source": [
        "# Setup"
      ]
    },
    {
      "cell_type": "code",
      "execution_count": null,
      "metadata": {
        "id": "6-grbYtP5ADN"
      },
      "outputs": [],
      "source": [
        "# Common imports\n",
        "import os\n",
        "import numpy as np\n",
        "import pandas as pd\n",
        "from scipy import stats\n",
        "\n",
        "# to make this notebook's output stable across runs\n",
        "np.random.seed(42)\n",
        "\n",
        "# To plot pretty figures\n",
        "%matplotlib inline\n",
        "import matplotlib as mpl\n",
        "import matplotlib.pyplot as plt\n",
        "mpl.rc('axes', labelsize=14)\n",
        "mpl.rc('xtick', labelsize=12)\n",
        "mpl.rc('ytick', labelsize=12)\n",
        "\n",
        "# Where to save the figures\n",
        "PROJECT_ROOT_DIR = \".\"\n",
        "CHAPTER_ID = \"training_linear_models\"\n",
        "\n",
        "def save_fig(fig_id, tight_layout=True):\n",
        "    path = os.path.join(PROJECT_ROOT_DIR, \"slide_images\", fig_id + \".png\")\n",
        "    print(\"Saving figure\", fig_id)\n",
        "    if tight_layout:\n",
        "        plt.tight_layout()\n",
        "    plt.savefig(path, format='png', dpi=300)\n",
        "\n",
        "# Ignore useless warnings (see SciPy issue #5998)\n",
        "import warnings\n",
        "warnings.filterwarnings(action=\"ignore\", message=\"^internal gelsd\")"
      ]
    },
    {
      "cell_type": "markdown",
      "metadata": {
        "id": "TShMgKHwYZ0u"
      },
      "source": [
        "### Part of the Assignment Week 03/04 "
      ]
    },
    {
      "cell_type": "markdown",
      "metadata": {
        "id": "DilpTpnp6qFw"
      },
      "source": [
        "### Q1-4. Softmax Regression using 1) means and vars of segment timbre, chroma, and loudmax and 2)means and vars of beats timbre, chroma, and loudmax"
      ]
    },
    {
      "cell_type": "markdown",
      "metadata": {
        "id": "7OurMV9xYfv5"
      },
      "source": [
        "* Build a softmax regression classifier to solve the music mood classification problem. The four mood classes are four quadrants of Russell’s emotion circumplex.\n",
        " \n",
        "* Use 10% of the dataset for the test set. Report classification scores of the training set and the test set. \n",
        "\n",
        "\n",
        "* Use the following features:\n",
        "seg_timbre_mean, seg_timbre_var, seg_chroma_mean, seg_chroma_var, seg_loudmax_mean, seg_loudmax_var, bt_timbre_mean, bt_timbre_var, bt_chroma_mean, bt_chroma_var, bt_loudmax_mean, bt_loudmax_var"
      ]
    },
    {
      "cell_type": "markdown",
      "metadata": {
        "id": "Lg33dQtR6wa-"
      },
      "source": [
        "## Assignment Week 05"
      ]
    },
    {
      "cell_type": "markdown",
      "metadata": {
        "id": "Kl1FXiaX538p"
      },
      "source": [
        "#Q1. Report evaluation results of the classifier that you built for the Week 04 assignment's Q1-4"
      ]
    },
    {
      "cell_type": "markdown",
      "metadata": {
        "id": "2ZvhnxgK6H1k"
      },
      "source": [
        "Split the datasets into a training set and a test set. Use 10% of your dataset for testing. Report the scores of the following evaluation metrics. (1pt)\n",
        "* Normalized confusion matrix\n",
        "* Accuracy\n",
        "* Precision\n",
        "* Recall\n",
        "* F1\n",
        "\n",
        "Also, pick the most confusing pair of classes (*and plot the examples of them to analyze individual errors.*) <--- Please pick the most confusing pair of classes but don't plot their examples. (1pt)\n"
      ]
    },
    {
      "cell_type": "code",
      "execution_count": null,
      "metadata": {
        "id": "2YVcRKDOYfEY"
      },
      "outputs": [],
      "source": []
    },
    {
      "cell_type": "markdown",
      "metadata": {
        "id": "9YPHghvO5AD2"
      },
      "source": [
        "# Q2. Explore MIREX evaluation metrics"
      ]
    },
    {
      "cell_type": "markdown",
      "metadata": {
        "id": "zRVNNtEV5AD3"
      },
      "source": [
        "MIREX has wiki pages for individual MIR tasks since 2005. \n",
        "\n",
        "First, visit the main page (https://www.music-ir.org/mirex/wiki/2019:Main_Page) and pick a MIREX main page of a particular year, and then click the task name of your interest. \n",
        "\n",
        "On the task wiki, you can find detailed information about the task, including the task description, data, and evaluation metrics. \n",
        "\n",
        "Pick one evaluation metric used by a task of your interest in a particular year and briefly introduce it here. (1pt)"
      ]
    },
    {
      "cell_type": "markdown",
      "metadata": {
        "id": "okVuigil_upW"
      },
      "source": [
        "Task:\n",
        "\n",
        "Year: \n",
        "\n",
        "Evaluation metric:\n",
        "\n",
        "\n"
      ]
    },
    {
      "cell_type": "code",
      "execution_count": null,
      "metadata": {
        "id": "_pnrggLP5AD9"
      },
      "outputs": [],
      "source": []
    }
  ],
  "metadata": {
    "accelerator": "TPU",
    "colab": {
      "collapsed_sections": [],
      "provenance": []
    },
    "kernelspec": {
      "display_name": "Python 3",
      "language": "python",
      "name": "python3"
    },
    "language_info": {
      "codemirror_mode": {
        "name": "ipython",
        "version": 3
      },
      "file_extension": ".py",
      "mimetype": "text/x-python",
      "name": "python",
      "nbconvert_exporter": "python",
      "pygments_lexer": "ipython3",
      "version": "3.8.5"
    }
  },
  "nbformat": 4,
  "nbformat_minor": 0
}