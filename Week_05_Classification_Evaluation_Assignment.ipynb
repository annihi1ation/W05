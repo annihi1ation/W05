{
  "nbformat": 4,
  "nbformat_minor": 0,
  "metadata": {
    "kernelspec": {
      "name": "python3",
      "display_name": "Python 3"
    },
    "language_info": {
      "codemirror_mode": {
        "name": "ipython",
        "version": 3
      },
      "file_extension": ".py",
      "mimetype": "text/x-python",
      "name": "python",
      "nbconvert_exporter": "python",
      "pygments_lexer": "ipython3",
      "version": "3.6.8"
    },
    "colab": {
      "provenance": [],
      "collapsed_sections": []
    },
    "accelerator": "TPU"
  },
  "cells": [
    {
      "cell_type": "markdown",
      "metadata": {
        "id": "l4Gu2N5O5ADF"
      },
      "source": [
        "# Week 05 Classification Evaluation Assignment"
      ]
    },
    {
      "cell_type": "markdown",
      "metadata": {
        "id": "_aMv4c3p5ADJ"
      },
      "source": [
        "- Course: Z604 Music Data Mining \n",
        "- Instructor: Kahyun Choi "
      ]
    },
    {
      "cell_type": "markdown",
      "metadata": {
        "id": "PpFKZqB67W7d"
      },
      "source": [
        "This week's assignment uses the same classifier for the Week 05 assignment. "
      ]
    },
    {
      "cell_type": "code",
      "metadata": {
        "id": "ov9QAm1W5HBT",
        "outputId": "9d53ece0-a37c-4b30-982c-5aab2ebfba3f",
        "colab": {
          "base_uri": "https://localhost:8080/",
          "height": 122
        }
      },
      "source": [
        "# we will use data from W04, so we will clone W04 repo\n",
        "# if you meet \"fatal: destination path 'W04' already exists and is not an empty directory\" error, uncomment the line below and run again\n",
        "# !rm -fr W04/\n",
        "!git clone https://github.com/music-data-mining/W04.git"
      ],
      "execution_count": null,
      "outputs": [
        {
          "output_type": "stream",
          "text": [
            "Go to this URL in a browser: https://accounts.google.com/o/oauth2/auth?client_id=947318989803-6bn6qk8qdgf4n4g3pfee6491hc0brc4i.apps.googleusercontent.com&redirect_uri=urn%3aietf%3awg%3aoauth%3a2.0%3aoob&response_type=code&scope=email%20https%3a%2f%2fwww.googleapis.com%2fauth%2fdocs.test%20https%3a%2f%2fwww.googleapis.com%2fauth%2fdrive%20https%3a%2f%2fwww.googleapis.com%2fauth%2fdrive.photos.readonly%20https%3a%2f%2fwww.googleapis.com%2fauth%2fpeopleapi.readonly\n",
            "\n",
            "Enter your authorization code:\n",
            "··········\n",
            "Mounted at /content/gdrive\n"
          ],
          "name": "stdout"
        }
      ]
    },
    {
      "cell_type": "code",
      "metadata": {
        "id": "OllXWfKa5ivo",
        "outputId": "c62ffde6-f211-4824-df50-ceb3b20a2bc9",
        "colab": {
          "base_uri": "https://localhost:8080/",
          "height": 34
        }
      },
      "source": [
        "# go to the directory of week04\n",
        "%cd W04"
      ],
      "execution_count": null,
      "outputs": [
        {
          "output_type": "stream",
          "text": [
            "/content/gdrive/My Drive/Colab Notebooks\n"
          ],
          "name": "stdout"
        }
      ]
    },
    {
      "cell_type": "markdown",
      "metadata": {
        "id": "hi9vcgU35ADL"
      },
      "source": [
        "# Setup"
      ]
    },
    {
      "cell_type": "code",
      "metadata": {
        "id": "6-grbYtP5ADN"
      },
      "source": [
        "# Common imports\n",
        "import os\n",
        "import numpy as np\n",
        "import pandas as pd\n",
        "from scipy import stats\n",
        "\n",
        "# to make this notebook's output stable across runs\n",
        "np.random.seed(42)\n",
        "\n",
        "# To plot pretty figures\n",
        "%matplotlib inline\n",
        "import matplotlib as mpl\n",
        "import matplotlib.pyplot as plt\n",
        "mpl.rc('axes', labelsize=14)\n",
        "mpl.rc('xtick', labelsize=12)\n",
        "mpl.rc('ytick', labelsize=12)\n",
        "\n",
        "# Where to save the figures\n",
        "PROJECT_ROOT_DIR = \".\"\n",
        "CHAPTER_ID = \"training_linear_models\"\n",
        "\n",
        "def save_fig(fig_id, tight_layout=True):\n",
        "    path = os.path.join(PROJECT_ROOT_DIR, \"slide_images\", fig_id + \".png\")\n",
        "    print(\"Saving figure\", fig_id)\n",
        "    if tight_layout:\n",
        "        plt.tight_layout()\n",
        "    plt.savefig(path, format='png', dpi=300)\n",
        "\n",
        "# Ignore useless warnings (see SciPy issue #5998)\n",
        "import warnings\n",
        "warnings.filterwarnings(action=\"ignore\", message=\"^internal gelsd\")"
      ],
      "execution_count": null,
      "outputs": []
    },
    {
      "cell_type": "markdown",
      "metadata": {
        "id": "TShMgKHwYZ0u"
      },
      "source": [
        "### Part of the Assignment Week 03/04 "
      ]
    },
    {
      "cell_type": "markdown",
      "metadata": {
        "id": "DilpTpnp6qFw"
      },
      "source": [
        "### Q1-4. Softmax Regression using 1) means and vars of timbre, chroma, and loudmax and 2)means and vars of means (for each beat) of timbre, chroma, and loudmax"
      ]
    },
    {
      "cell_type": "markdown",
      "metadata": {
        "id": "7OurMV9xYfv5"
      },
      "source": [
        "* Build a softmax regression classifier to solve the music mood classification problem. The four mood classes are four quadrants of Russell’s emotion circumplex.\n",
        " \n",
        "* Use 10% of the dataset for the test set. Report classification scores of the training set and the test set. \n",
        "\n",
        "\n",
        "* Use the following features:\n",
        "timbre_mean,timbre_var,chroma_mean,chroma_var, loudmax_mean, loudmax_var, timbre_mean_mean, timbre_mean_var, chroma_mean_mean, chroma_mean_var, loudmax_mean_mean, loudmax_mean_var"
      ]
    },
    {
      "cell_type": "markdown",
      "metadata": {
        "id": "Lg33dQtR6wa-"
      },
      "source": [
        "## Assignment Week 05"
      ]
    },
    {
      "cell_type": "markdown",
      "metadata": {
        "id": "Kl1FXiaX538p"
      },
      "source": [
        "#Q1. Report evaluation results of the classifier that you built for the Week 04 assignment's Q1-4"
      ]
    },
    {
      "cell_type": "markdown",
      "metadata": {
        "id": "2ZvhnxgK6H1k"
      },
      "source": [
        "Split the datasets into a training set and a test set. Use 10% of your dataset for testing. Report the scores of the following evaluation metrics. (1pt)\n",
        "* Normalized confusion matrix\n",
        "* Accuracy\n",
        "* Precision\n",
        "* Recall\n",
        "* F1\n",
        "\n",
        "Also, pick the most confusing pair of classes (*and plot the examples of them to analyze individual errors.*) <--- Please pick the most confusing pair of classes but don't plot their examples. (1pt)\n"
      ]
    },
    {
      "cell_type": "code",
      "metadata": {
        "id": "2YVcRKDOYfEY"
      },
      "source": [],
      "execution_count": null,
      "outputs": []
    },
    {
      "cell_type": "markdown",
      "metadata": {
        "id": "9YPHghvO5AD2"
      },
      "source": [
        "# Q2. Explore MIREX evaluation metrics"
      ]
    },
    {
      "cell_type": "markdown",
      "metadata": {
        "id": "zRVNNtEV5AD3"
      },
      "source": [
        "MIREX has wiki pages for individual MIR tasks since 2005. \n",
        "\n",
        "First, visit the main page (https://www.music-ir.org/mirex/wiki/2019:Main_Page) and pick a MIREX main page of a particular year, and then click the task name of your interest. \n",
        "\n",
        "On the task wiki, you can find detailed information about the task, including the task description, data, and evaluation metrics. \n",
        "\n",
        "Pick one evaluation metric used by a task of your interest in a particular year and briefly introduce it here. (1pt)"
      ]
    },
    {
      "cell_type": "markdown",
      "metadata": {
        "id": "okVuigil_upW"
      },
      "source": [
        "Task:\n",
        "\n",
        "Year: \n",
        "\n",
        "Evaluation metric:\n",
        "\n",
        "\n"
      ]
    },
    {
      "cell_type": "code",
      "metadata": {
        "id": "_pnrggLP5AD9"
      },
      "source": [],
      "execution_count": null,
      "outputs": []
    }
  ]
}