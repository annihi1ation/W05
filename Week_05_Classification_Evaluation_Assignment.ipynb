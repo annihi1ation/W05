{
  "cells": [
    {
      "cell_type": "markdown",
      "metadata": {
        "id": "l4Gu2N5O5ADF"
      },
      "source": [
        "# Week 05 Classification Evaluation Assignment"
      ]
    },
    {
      "cell_type": "markdown",
      "metadata": {
        "id": "_aMv4c3p5ADJ"
      },
      "source": [
        "- Course: Z604 Music Data Mining \n",
        "- Instructor: Kahyun Choi "
      ]
    },
    {
      "cell_type": "markdown",
      "metadata": {
        "id": "PpFKZqB67W7d"
      },
      "source": [
        "This week's assignment uses the same classifier for the Week 05 assignment. "
      ]
    },
    {
      "cell_type": "code",
      "execution_count": 1,
      "metadata": {
        "colab": {
          "base_uri": "https://localhost:8080/"
        },
        "id": "ov9QAm1W5HBT",
        "outputId": "31949836-c65e-4402-b93a-4fa0ca458711"
      },
      "outputs": [
        {
          "output_type": "stream",
          "name": "stdout",
          "text": [
            "Cloning into 'W04'...\n",
            "remote: Enumerating objects: 245, done.\u001b[K\n",
            "remote: Counting objects: 100% (12/12), done.\u001b[K\n",
            "remote: Compressing objects: 100% (8/8), done.\u001b[K\n",
            "remote: Total 245 (delta 6), reused 10 (delta 4), pack-reused 233\u001b[K\n",
            "Receiving objects: 100% (245/245), 42.97 MiB | 28.70 MiB/s, done.\n",
            "Resolving deltas: 100% (7/7), done.\n",
            "/content/W04\n"
          ]
        }
      ],
      "source": [
        "# we will be reusing dataset and utilities from W04\n",
        "import os\n",
        "if os.path.exists('W04'): \n",
        "    !rm -fr 'W04/'\n",
        "!git clone https://github.com/music-data-mining/W04.git\n",
        "%cd W04"
      ]
    },
    {
      "cell_type": "markdown",
      "metadata": {
        "id": "hi9vcgU35ADL"
      },
      "source": [
        "# Setup"
      ]
    },
    {
      "cell_type": "code",
      "execution_count": 2,
      "metadata": {
        "id": "6-grbYtP5ADN"
      },
      "outputs": [],
      "source": [
        "# Common imports\n",
        "import os\n",
        "import numpy as np\n",
        "import pandas as pd\n",
        "from scipy import stats\n",
        "\n",
        "# to make this notebook's output stable across runs\n",
        "np.random.seed(42)\n",
        "\n",
        "# To plot pretty figures\n",
        "%matplotlib inline\n",
        "import matplotlib as mpl\n",
        "import matplotlib.pyplot as plt\n",
        "mpl.rc('axes', labelsize=14)\n",
        "mpl.rc('xtick', labelsize=12)\n",
        "mpl.rc('ytick', labelsize=12)\n",
        "\n",
        "# Where to save the figures\n",
        "PROJECT_ROOT_DIR = \".\"\n",
        "CHAPTER_ID = \"training_linear_models\"\n",
        "\n",
        "def save_fig(fig_id, tight_layout=True):\n",
        "    path = os.path.join(PROJECT_ROOT_DIR, \"slide_images\", fig_id + \".png\")\n",
        "    print(\"Saving figure\", fig_id)\n",
        "    if tight_layout:\n",
        "        plt.tight_layout()\n",
        "    plt.savefig(path, format='png', dpi=300)\n",
        "\n",
        "# Ignore useless warnings (see SciPy issue #5998)\n",
        "import warnings\n",
        "warnings.filterwarnings(action=\"ignore\", message=\"^internal gelsd\")"
      ]
    },
    {
      "cell_type": "markdown",
      "metadata": {
        "id": "TShMgKHwYZ0u"
      },
      "source": [
        "### Part of the Assignment Week 03/04 "
      ]
    },
    {
      "cell_type": "markdown",
      "metadata": {
        "id": "DilpTpnp6qFw"
      },
      "source": [
        "### Q1-4. Softmax Regression using 1) means and vars of segment timbre, chroma, and loudmax and 2)means and vars of beats timbre, chroma, and loudmax"
      ]
    },
    {
      "cell_type": "markdown",
      "metadata": {
        "id": "7OurMV9xYfv5"
      },
      "source": [
        "* Build a softmax regression classifier to solve the music mood classification problem. The four mood classes are four quadrants of Russell’s emotion circumplex.\n",
        " \n",
        "* Use 10% of the dataset for the test set. Report classification scores of the training set and the test set. \n",
        "\n",
        "\n",
        "* Use the following features:\n",
        "seg_timbre_mean, seg_timbre_var, seg_chroma_mean, seg_chroma_var, seg_loudmax_mean, seg_loudmax_var, bt_timbre_mean, bt_timbre_var, bt_chroma_mean, bt_chroma_var, bt_loudmax_mean, bt_loudmax_var"
      ]
    },
    {
      "cell_type": "code",
      "source": [
        "data = pd.read_csv('moodmsdfeatures.csv')  # load data set"
      ],
      "metadata": {
        "id": "npq7oiWm-Nlp"
      },
      "execution_count": 3,
      "outputs": []
    },
    {
      "cell_type": "code",
      "source": [
        "import csv\n",
        "import hdf5_getters\n",
        "import beat_aligned_feats as baf\n",
        "\n",
        "songreader = csv.DictReader(open('moodmsdfeatures.csv'))\n",
        "# init segment features containers\n",
        "seg_timbre_mean = np.empty((0,12), dtype=float)\n",
        "seg_timbre_var = np.empty((0,12), dtype=float)\n",
        "seg_chroma_mean = np.empty((0,12), dtype=float)\n",
        "seg_chroma_var = np.empty((0,12), dtype=float)\n",
        "seg_loudmax_mean = np.empty((0,1), dtype=float)\n",
        "seg_loudmax_var = np.empty((0,1), dtype=float)\n",
        "# init beat features containers\n",
        "bt_timbre_mean = np.empty((0,12), dtype=float)\n",
        "bt_timbre_var = np.empty((0,12), dtype=float)\n",
        "bt_chroma_mean = np.empty((0,12), dtype=float)\n",
        "bt_chroma_var = np.empty((0,12), dtype=float)\n",
        "bt_loudmax_mean = np.empty((0,1), dtype=float)\n",
        "bt_loudmax_var = np.empty((0,1), dtype=float)\n",
        "\n",
        "for song in songreader:\n",
        "    trid = song['MSD_track_id']\n",
        "    filename = 'deezer_MSD/' + trid + '.h5'\n",
        "    h5 = hdf5_getters.open_h5_file_read(filename)\n",
        "    # extract segment features\n",
        "    seg_timbre = hdf5_getters.get_segments_timbre(h5)\n",
        "    seg_timbre_mean = np.vstack((seg_timbre_mean, np.mean(seg_timbre, axis = 0)))\n",
        "    seg_timbre_var = np.vstack((seg_timbre_var, np.var(seg_timbre, axis = 0)))\n",
        "\n",
        "    seg_chroma = hdf5_getters.get_segments_pitches(h5)\n",
        "    seg_chroma_mean = np.vstack((seg_chroma_mean, np.mean(seg_chroma, axis = 0)))\n",
        "    seg_chroma_var = np.vstack((seg_chroma_var, np.var(seg_chroma, axis = 0)))\n",
        "    \n",
        "    seg_loudmax = hdf5_getters.get_segments_loudness_max(h5)\n",
        "    seg_loudmax_mean = np.vstack((seg_loudmax_mean, np.mean(seg_loudmax, axis = 0)))\n",
        "    seg_loudmax_var = np.vstack((seg_loudmax_var, np.var(seg_loudmax, axis = 0)))    \n",
        "    # extract beat features\n",
        "    bt_timbre = baf.get_bttimbre(filename).T\n",
        "    bt_timbre_mean = np.vstack((bt_timbre_mean, np.mean(bt_timbre, axis = 0)))\n",
        "    bt_timbre_var = np.vstack((bt_timbre_var, np.var(bt_timbre, axis = 0)))\n",
        "    \n",
        "    bt_chroma = baf.get_btchromas(filename).T\n",
        "    bt_chroma_mean = np.vstack((bt_chroma_mean, np.mean(bt_chroma, axis = 0)))\n",
        "    bt_chroma_var = np.vstack((bt_chroma_var, np.var(bt_chroma, axis = 0)))    \n",
        "    \n",
        "    bt_loudmax = baf.get_btloudnessmax(filename)\n",
        "    bt_loudmax = np.transpose(bt_loudmax)\n",
        "    bt_loudmax_mean = np.vstack((bt_loudmax_mean, np.mean(bt_loudmax, axis = 0)))\n",
        "    bt_loudmax_var = np.vstack((bt_loudmax_var, np.var(bt_loudmax, axis = 0)))  "
      ],
      "metadata": {
        "id": "NZw7jSej6jLJ"
      },
      "execution_count": 4,
      "outputs": []
    },
    {
      "cell_type": "code",
      "source": [
        "from sklearn import preprocessing\n",
        "from sklearn.linear_model import SGDClassifier\n",
        "from sklearn.model_selection import train_test_split\n",
        "\n",
        "X = np.hstack((seg_timbre_mean,\n",
        "               seg_timbre_var,\n",
        "               seg_chroma_mean,\n",
        "               seg_chroma_var,\n",
        "               seg_loudmax_mean,\n",
        "               seg_loudmax_var,\n",
        "               bt_timbre_mean,\n",
        "               bt_timbre_var,\n",
        "               bt_chroma_mean,\n",
        "               bt_chroma_var,\n",
        "               bt_loudmax_mean,\n",
        "               bt_loudmax_var))\n",
        "y = data['quadrant'].values.reshape(-1,)\n",
        "\n",
        "# X = preprocessing.scale(X)  # try this line to see how a simple scaler improve the performance\n",
        "X_train, X_test, y_train, y_test = train_test_split(X, y, test_size=0.1, random_state=42)\n",
        "\n",
        "reg = SGDClassifier(loss=\"log\", max_iter = 1e9)\n",
        "reg.fit(X_train, y_train)\n",
        "y_pred = reg.predict(X_test)\n",
        "\n",
        "score = reg.score(X_train, y_train)\n",
        "print(\"Train accuracy score: %.4f\" % score)\n",
        "score = reg.score(X_test, y_test)\n",
        "print(\"Test accuracy score: %.4f\" % score)"
      ],
      "metadata": {
        "colab": {
          "base_uri": "https://localhost:8080/"
        },
        "id": "b3k0ltyv6e93",
        "outputId": "5f818636-ff6a-4a4a-9632-72157919337f"
      },
      "execution_count": 30,
      "outputs": [
        {
          "output_type": "stream",
          "name": "stdout",
          "text": [
            "Train accuracy score: 0.7164\n",
            "Test accuracy score: 0.5217\n"
          ]
        }
      ]
    },
    {
      "cell_type": "markdown",
      "metadata": {
        "id": "Lg33dQtR6wa-"
      },
      "source": [
        "## Assignment Week 05"
      ]
    },
    {
      "cell_type": "markdown",
      "metadata": {
        "id": "Kl1FXiaX538p"
      },
      "source": [
        "#Q1. Report evaluation results of the classifier that you built for the Week 04 assignment's Q1-4"
      ]
    },
    {
      "cell_type": "markdown",
      "metadata": {
        "id": "2ZvhnxgK6H1k"
      },
      "source": [
        "Report the scores of the following evaluation metrics. (1pt)\n",
        "* Normalized confusion matrix\n",
        "* Accuracy\n",
        "* Precision\n",
        "* Recall\n",
        "* F1\n",
        "\n"
      ]
    },
    {
      "cell_type": "code",
      "execution_count": null,
      "metadata": {
        "id": "2YVcRKDOYfEY"
      },
      "outputs": [],
      "source": []
    },
    {
      "cell_type": "markdown",
      "source": [
        "Pick the most confusing pair of classes *by visualizing the normalized confusion matrix.* <--- Please pick the most confusing pair of classes. (1pt)"
      ],
      "metadata": {
        "id": "ZqEbNJywHUkz"
      }
    },
    {
      "cell_type": "code",
      "source": [],
      "metadata": {
        "id": "9AoAgoULHVUq"
      },
      "execution_count": null,
      "outputs": []
    },
    {
      "cell_type": "markdown",
      "metadata": {
        "id": "9YPHghvO5AD2"
      },
      "source": [
        "# Q2. Explore MIREX evaluation metrics"
      ]
    },
    {
      "cell_type": "markdown",
      "metadata": {
        "id": "zRVNNtEV5AD3"
      },
      "source": [
        "MIREX has wiki pages for individual MIR tasks since 2005. \n",
        "\n",
        "First, visit the main page (https://www.music-ir.org/mirex/wiki/2019:Main_Page) and pick a MIREX main page of a particular year, and then click the task name of your interest. \n",
        "\n",
        "On the task wiki, you can find detailed information about the task, including the task description, data, and evaluation metrics. \n",
        "\n",
        "Pick one evaluation metric used by a task of your interest in a particular year and briefly introduce it here. (1pt)"
      ]
    },
    {
      "cell_type": "markdown",
      "metadata": {
        "id": "okVuigil_upW"
      },
      "source": [
        "Task:\n",
        "\n",
        "Year: \n",
        "\n",
        "Evaluation metric:\n",
        "\n",
        "\n"
      ]
    },
    {
      "cell_type": "code",
      "execution_count": null,
      "metadata": {
        "id": "_pnrggLP5AD9"
      },
      "outputs": [],
      "source": []
    }
  ],
  "metadata": {
    "accelerator": "TPU",
    "colab": {
      "collapsed_sections": [],
      "provenance": []
    },
    "kernelspec": {
      "display_name": "Python 3",
      "language": "python",
      "name": "python3"
    },
    "language_info": {
      "codemirror_mode": {
        "name": "ipython",
        "version": 3
      },
      "file_extension": ".py",
      "mimetype": "text/x-python",
      "name": "python",
      "nbconvert_exporter": "python",
      "pygments_lexer": "ipython3",
      "version": "3.8.5"
    }
  },
  "nbformat": 4,
  "nbformat_minor": 0
}